{
 "cells": [
  {
   "cell_type": "code",
   "execution_count": null,
   "id": "5c5c7df6",
   "metadata": {},
   "outputs": [],
   "source": [
    "# IMPORT PACKAGE\n",
    "# Adciona o classpath do diretório src ao sys.path\n",
    "import sys\n",
    "from pathlib import Path\n",
    "\n",
    "# Define o caminho absoluto para o diretório src\n",
    "src_path = Path(\"../src\").resolve()\n",
    "\n",
    "# Define o caminho absoluto para o diretório data\n",
    "data_path = Path(\"../data\").resolve()\n",
    "\n",
    "# Adiciona o diretório src ao sys.path\n",
    "if src_path not in sys.path:\n",
    "    sys.path.append(src_path)"
   ]
  },
  {
   "cell_type": "markdown",
   "id": "afdf60df",
   "metadata": {},
   "source": [
    "# INTRODUCTION"
   ]
  },
  {
   "cell_type": "code",
   "execution_count": null,
   "id": "f053138f",
   "metadata": {},
   "outputs": [],
   "source": [
    "from {{ cookiecutter.project_slug }} import main\n",
    "\n",
    "main()\n",
    "\n",
    "test = \"testeste\""
   ]
  },
  {
   "cell_type": "code",
   "execution_count": null,
   "id": "2c74ee3e",
   "metadata": {},
   "outputs": [],
   "source": [
    "import csv\n",
    "\n",
    "# usa src_path definido em uma célula anterior\n",
    "csv_path = data_path / \"sample.csv\"\n",
    "if not csv_path.exists():\n",
    "    raise FileNotFoundError(f\"Arquivo CSV não encontrado: {csv_path}\")\n",
    "\n",
    "rows = []\n",
    "with Path(csv_path).open() as file:\n",
    "    reader = csv.DictReader(file)\n",
    "    for row in reader:\n",
    "        rows.append(row)\n",
    "\n",
    "print(f\"Lido {len(rows)} linhas do arquivo: {csv_path.name}\")\n",
    "# Mostra as primeiras 5 linhas como exemplo\n",
    "for r in rows[:5]:\n",
    "    print(r)"
   ]
  }
 ],
 "metadata": {
  "kernelspec": {
   "display_name": "cer-qa-project-template (3.13.1)",
   "language": "python",
   "name": "python3"
  },
  "language_info": {
   "codemirror_mode": {
    "name": "ipython",
    "version": 3
   },
   "file_extension": ".py",
   "mimetype": "text/x-python",
   "name": "python",
   "nbconvert_exporter": "python",
   "pygments_lexer": "ipython3",
   "version": "3.13.1"
  }
 },
 "nbformat": 4,
 "nbformat_minor": 5
}
